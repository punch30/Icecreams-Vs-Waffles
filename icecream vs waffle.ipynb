{
 "cells": [
  {
   "cell_type": "code",
   "execution_count": 1,
   "metadata": {},
   "outputs": [],
   "source": [
    "import numpy as np\n",
    "import pandas as pd \n",
    "import matplotlib.pyplot as plt\n",
    "import cv2 \n",
    "import os \n",
    "from random import shuffle \n",
    "from tqdm import tqdm \n",
    "\n",
    "\n",
    "import warnings\n",
    "warnings.filterwarnings('ignore')\n",
    "import os"
   ]
  },
  {
   "cell_type": "code",
   "execution_count": 2,
   "metadata": {},
   "outputs": [],
   "source": [
    "train_icecream = \"ice_cream\"\n",
    "train_waffles= \"waffles\"\n",
    "image_size=128"
   ]
  },
  {
   "cell_type": "code",
   "execution_count": 3,
   "metadata": {},
   "outputs": [],
   "source": [
    "def train_data():\n",
    "    train_data_icecream = [] \n",
    "    train_data_waffles=[]\n",
    "    for image1 in tqdm(os.listdir(train_icecream)): \n",
    "        path = os.path.join(train_icecream, image1)\n",
    "        img1 = cv2.imread(path, cv2.IMREAD_GRAYSCALE) \n",
    "        img1 = cv2.resize(img1, (image_size, image_size))\n",
    "        train_data_icecream.append(img1) \n",
    "        \n",
    "    for image2 in tqdm(os.listdir(train_waffles)): \n",
    "        path = os.path.join(train_waffles, image2)\n",
    "        img2 = cv2.imread(path, cv2.IMREAD_GRAYSCALE) \n",
    "        img2 = cv2.resize(img2, (image_size, image_size))\n",
    "        train_data_waffles.append(img2) \n",
    "    \n",
    "    train_data= np.concatenate((np.asarray(train_data_icecream),np.asarray(train_data_waffles)),axis=0)\n",
    "    return train_data "
   ]
  },
  {
   "cell_type": "code",
   "execution_count": 4,
   "metadata": {},
   "outputs": [
    {
     "name": "stderr",
     "output_type": "stream",
     "text": [
      "100%|██████████████████████████████████████████████████████████████████████████████████████████████████████████████████████████████████████████████████████████████████████████████| 343/343 [00:00<00:00, 592.99it/s]\n",
      "100%|██████████████████████████████████████████████████████████████████████████████████████████████████████████████████████████████████████████████████████████████████████████████| 355/355 [00:00<00:00, 591.28it/s]\n"
     ]
    }
   ],
   "source": [
    "train_data = train_data() "
   ]
  },
  {
   "cell_type": "code",
   "execution_count": 5,
   "metadata": {},
   "outputs": [],
   "source": [
    "x_data=train_data\n",
    "x_data = (x_data-np.min(x_data))/(np.max(x_data)-np.min(x_data))\n"
   ]
  },
  {
   "cell_type": "code",
   "execution_count": 6,
   "metadata": {},
   "outputs": [],
   "source": [
    "z1 = np.zeros(343)\n",
    "o1 = np.ones(355)\n",
    "\n",
    "Y_train = np.concatenate((o1, z1), axis=0)"
   ]
  },
  {
   "cell_type": "code",
   "execution_count": 7,
   "metadata": {},
   "outputs": [],
   "source": [
    "y_data=Y_train.reshape(x_data.shape[0],1)\n",
    "x_data=x_data.reshape(x_data.shape[0],-1).T\n"
   ]
  },
  {
   "cell_type": "code",
   "execution_count": 8,
   "metadata": {},
   "outputs": [],
   "source": [
    "\n",
    "#Data is shuffled because ones and zeros are concatenated consecutively\n",
    "a=int(x_data.shape[1])\n",
    "\n",
    "shuffled=list(np.random.permutation(a))\n",
    "\n",
    "shuffled_x=x_data[:,shuffled].reshape((16384,698))\n",
    "shuffled_y=y_data.T[:,shuffled].reshape((1,698))\n",
    "\n",
    "b=int(698*0.8)\n",
    "x_train=shuffled_x[:,0:b].reshape((16384,b))\n",
    "y_train=shuffled_y[:,0:b].reshape((1,b))\n",
    "r=int(698-b)\n",
    "x_test=shuffled_x[:,b:698].reshape((16384,r))\n",
    "y_test=shuffled_y[:,b:698].reshape((1,r))\n"
   ]
  },
  {
   "cell_type": "code",
   "execution_count": 9,
   "metadata": {},
   "outputs": [
    {
     "name": "stdout",
     "output_type": "stream",
     "text": [
      "(16384, 558)\n"
     ]
    }
   ],
   "source": [
    "print(x_train.shape)\n",
    "layerdims =[16384,4,1]\n",
    "lambd=1"
   ]
  },
  {
   "cell_type": "code",
   "execution_count": 10,
   "metadata": {},
   "outputs": [],
   "source": [
    "def initialize_parameters(layerdims):\n",
    "    parameters = {}\n",
    "           \n",
    "    for l in range(1, len(layerdims)):\n",
    "      \n",
    "        parameters['W' + str(l)] = np.random.randn(layerdims[l],layerdims[l-1])*(np.sqrt(2/layerdims[l-1]))\n",
    "        parameters['b' + str(l)] = np.zeros((layerdims[l],1))\n",
    "       \n",
    "        \n",
    "    return parameters"
   ]
  },
  {
   "cell_type": "code",
   "execution_count": 11,
   "metadata": {},
   "outputs": [],
   "source": [
    "def forward(A, W, b):\n",
    "  \n",
    "   \n",
    "    Z = np.dot(W,A)+b\n",
    "    cache = (A, W, b)\n",
    "    \n",
    "    return Z, cache"
   ]
  },
  {
   "cell_type": "code",
   "execution_count": 12,
   "metadata": {},
   "outputs": [],
   "source": [
    "def activation_forward(A_prev, W, b, activation):\n",
    "   \n",
    "    if activation == \"sigmoid\":\n",
    "      \n",
    "        Z, linear_cache = forward(A_prev, W, b)\n",
    "        A, activation_cache = sigmoid(Z)\n",
    "     \n",
    "    elif activation == \"relu\":\n",
    "        \n",
    "        Z, linear_cache = forward(A_prev, W, b)\n",
    "        A, activation_cache = relu(Z)\n",
    "        \n",
    "    cache = (linear_cache, activation_cache)\n",
    "\n",
    "    return A, cache"
   ]
  },
  {
   "cell_type": "code",
   "execution_count": 13,
   "metadata": {},
   "outputs": [],
   "source": [
    "def compute_cost(AL, Y,cache1,cache2):\n",
    "   \n",
    "    m = Y.shape[1]\n",
    "    (linear_cache1,activation_cache1)=cache1\n",
    "    (linear_cache2,activation_cache2)=cache2\n",
    "    A1,W1,b1=linear_cache1\n",
    "    A2,W2,b2=linear_cache2\n",
    "   \n",
    "    cost = (-1/m)*np.sum(Y*np.log(AL)+(1-Y)*(np.log(1-AL)))+(1/2)*(lambd/m)*(np.sum(np.square(W1))+np.sum(np.square(W2)))\n",
    "  \n",
    "    \n",
    "    cost = np.squeeze(cost)      \n",
    "  \n",
    "    \n",
    "    return cost"
   ]
  },
  {
   "cell_type": "code",
   "execution_count": 14,
   "metadata": {},
   "outputs": [],
   "source": [
    "def backward(dZ, cache):\n",
    "   \n",
    "    A_prev, W, b = cache\n",
    "    m = A_prev.shape[1]\n",
    "    \n",
    "   \n",
    "    dW = (1/m)*(dZ).dot(A_prev.T)+((lambd)/m)*(W)\n",
    "    db = (1/m)*(np.sum(dZ,axis=1,keepdims=True))\n",
    "    dA_prev = np.dot(W.T,dZ)\n",
    "   \n",
    "    \n",
    "    return dA_prev, dW, db"
   ]
  },
  {
   "cell_type": "code",
   "execution_count": 15,
   "metadata": {},
   "outputs": [],
   "source": [
    "def activation_backward(dA, cache, activation):\n",
    "   \n",
    "    linear_cache, activation_cache = cache\n",
    "    \n",
    "    if activation == \"relu\":\n",
    "        \n",
    "        Z=activation_cache\n",
    "        dZ=np.array(dA,copy=True)\n",
    "        dZ[Z<=0]=0\n",
    "        dA_prev, dW, db =backward(dZ,linear_cache)\n",
    "      \n",
    "    elif activation == \"sigmoid\":\n",
    "       \n",
    "        Z=activation_cache\n",
    "        s1=1/(1+np.exp(-Z))\n",
    "        dZ =dA*s1*(1-s1)\n",
    "        dA_prev, dW, db =backward(dZ,linear_cache)\n",
    "      \n",
    "    \n",
    "    return dA_prev, dW, db"
   ]
  },
  {
   "cell_type": "code",
   "execution_count": 16,
   "metadata": {},
   "outputs": [],
   "source": [
    "def sigmoid(Z):\n",
    "   \n",
    "    A = 1/(1+np.exp(-Z))\n",
    "    cache = Z\n",
    "    return A, cache\n",
    "\n",
    "def relu(Z):\n",
    "    A = np.maximum(0,Z)\n",
    "    cache = Z \n",
    "    return A, cache\n",
    "\n",
    "\n",
    "\n"
   ]
  },
  {
   "cell_type": "code",
   "execution_count": 17,
   "metadata": {},
   "outputs": [],
   "source": [
    "def initialize_adam(parameters) :\n",
    "   \n",
    "    L = len(parameters) // 2 \n",
    "    v = {}\n",
    "    s = {}\n",
    "    \n",
    "   \n",
    "    for l in range(L):\n",
    "   \n",
    "        v[\"dW\" + str(l+1)] = np.zeros( parameters[\"W\" + str(l+1)].shape)\n",
    "        v[\"db\" + str(l+1)] = np.zeros( parameters[\"b\" + str(l+1)].shape)\n",
    "        s[\"dW\" + str(l+1)] = np.zeros( parameters[\"W\" + str(l+1)].shape)\n",
    "        s[\"db\" + str(l+1)] = np.zeros( parameters[\"b\" + str(l+1)].shape)\n",
    "  \n",
    "    \n",
    "    return v, s"
   ]
  },
  {
   "cell_type": "code",
   "execution_count": 18,
   "metadata": {},
   "outputs": [],
   "source": [
    "def update_parameter_with_adam(parameters, grads, v, s, t, learning_rate=0.001,beta1=0.9, beta2=0.99,  epsilon = 1e-8):\n",
    "   \n",
    "    \n",
    "    L = len(parameters) // 2    \n",
    "\n",
    "    v_corrected = {}                        \n",
    "    s_corrected = {}                       \n",
    "    for l in range(L):\n",
    "       \n",
    "        v[\"dW\" + str(l+1)] = beta1*( v[\"dW\" + str(l+1)] )+(1-beta1)*(grads[\"dW\"+str(l+1)])\n",
    "        v[\"db\" + str(l+1)] =  beta1*( v[\"db\" + str(l+1)] )+(1-beta1)*(grads[\"db\"+str(l+1)])\n",
    "      \n",
    "        v_corrected[\"dW\" + str(l+1)] =   v[\"dW\" + str(l+1)]/(1-np.power(beta1,t))\n",
    "        v_corrected[\"db\" + str(l+1)] =  v[\"db\" + str(l+1)]/(1-np.power(beta1,t))\n",
    "      \n",
    "        s[\"dW\" + str(l+1)] =  beta2*( s[\"dW\" + str(l+1)] )+(1-beta2)*(np.power(grads[\"dW\"+str(l+1)],2))\n",
    "        s[\"db\" + str(l+1)] = beta2*( s[\"db\" + str(l+1)] )+(1-beta2)*(np.power(grads[\"db\"+str(l+1)],2))\n",
    "       \n",
    "        s_corrected[\"dW\" + str(l+1)] = s[\"dW\" + str(l+1)]/(1-np.power(beta2,t))\n",
    "        s_corrected[\"db\" + str(l+1)] = s[\"db\" + str(l+1)]/(1-np.power(beta2,t))\n",
    "       \n",
    "        parameters[\"W\" + str(l+1)] =parameters[\"W\" + str(l+1)]-(learning_rate)*(v_corrected[\"dW\" + str(l+1)]/ (np.sqrt(s_corrected[\"dW\" + str(l + 1)]) + epsilon))\n",
    "        parameters[\"b\" + str(l+1)] = parameters[\"b\" + str(l+1)] -(learning_rate)*(v_corrected[\"db\" + str(l+1)]/ (np.sqrt(s_corrected[\"db\" + str(l + 1)]) + epsilon))\n",
    "    \n",
    "\n",
    "    return parameters, v, s"
   ]
  },
  {
   "cell_type": "code",
   "execution_count": 19,
   "metadata": {},
   "outputs": [],
   "source": [
    "def neural_model(X, Y, layerdims, learning_rate = 0.001, num_iterations = 1000, print_cost=False):\n",
    "   \n",
    "   \n",
    "    grads = {}\n",
    "    costs = []                              \n",
    "    m = X.shape[1]                           \n",
    "    parameters = initialize_parameters(layerdims)\n",
    "    v,s=initialize_adam(parameters)\n",
    "    \n",
    "    W1 = parameters[\"W1\"]\n",
    "    b1 = parameters[\"b1\"]\n",
    "    W2 = parameters[\"W2\"]\n",
    "    b2 = parameters[\"b2\"]\n",
    "    t=0\n",
    "    for i in range(0, num_iterations):\n",
    "\n",
    "        \n",
    "        A1, cache1 = activation_forward(X, W1, b1, \"relu\")\n",
    "        A2, cache2 = activation_forward(A1, W2, b2, \"sigmoid\")\n",
    "        \n",
    "       \n",
    "        cost = compute_cost(A2, Y,cache1,cache2)\n",
    "       \n",
    "        dA2 = - (np.divide(Y, A2) - np.divide(1 - Y, 1 - A2))\n",
    "        \n",
    "       \n",
    "        dA1, dW2, db2 = activation_backward(dA2, cache2, \"sigmoid\")\n",
    "        dA0, dW1, db1 = activation_backward(dA1, cache1, \"relu\")\n",
    "      \n",
    "        grads['dW1'] = dW1\n",
    "        grads['db1'] = db1\n",
    "        grads['dW2'] = dW2\n",
    "        grads['db2'] = db2\n",
    "        \n",
    "        t=t+1\n",
    "        parameters, v, s = update_parameter_with_adam(parameters, grads, v, s,\n",
    "                                                               t, learning_rate,0.9,0.999, 1e-8)\n",
    "        \n",
    "        W1 = parameters[\"W1\"]\n",
    "        b1 = parameters[\"b1\"]\n",
    "        W2 = parameters[\"W2\"]\n",
    "        b2 = parameters[\"b2\"]\n",
    "        \n",
    "        if print_cost and i % 100 == 0:\n",
    "            print(\"Cost after iteration {}: {}\".format(i, np.squeeze(cost)))\n",
    "        if print_cost and i % 100 == 0:\n",
    "            costs.append(cost)\n",
    "       \n",
    " \n",
    "\n",
    "    plt.plot(np.squeeze(costs))\n",
    "    plt.ylabel('cost')\n",
    "    plt.xlabel('iterations (per hundreds)')\n",
    "    plt.title(\"Learning rate =\" + str(learning_rate))\n",
    "    plt.show()\n",
    "    \n",
    "    return parameters"
   ]
  },
  {
   "cell_type": "code",
   "execution_count": 20,
   "metadata": {},
   "outputs": [
    {
     "name": "stdout",
     "output_type": "stream",
     "text": [
      "Cost after iteration 0: 0.6990453432025633\n",
      "Cost after iteration 100: 0.39018311803963385\n",
      "Cost after iteration 200: 0.22298624020788702\n",
      "Cost after iteration 300: 0.15054607055047226\n",
      "Cost after iteration 400: 0.11975260199572518\n",
      "Cost after iteration 500: 0.10286032165908428\n",
      "Cost after iteration 600: 0.09634857546810914\n",
      "Cost after iteration 700: 0.09027577226640729\n",
      "Cost after iteration 800: 0.08481934183877088\n",
      "Cost after iteration 900: 0.0798846615732522\n"
     ]
    },
    {
     "data": {
      "image/png": "[encoded data removed]",
      "text/plain": [
       "<Figure size 432x288 with 1 Axes>"
      ]
     },
     "metadata": {
      "needs_background": "light"
     },
     "output_type": "display_data"
    }
   ],
   "source": [
    "\n",
    "parameters = neural_model(x_train, y_train, layerdims, num_iterations = 1000, print_cost=True)\n"
   ]
  },
  {
   "cell_type": "code",
   "execution_count": 21,
   "metadata": {},
   "outputs": [],
   "source": [
    "def predict(X, y, parameters):\n",
    "   \n",
    "    m = X.shape[1]\n",
    "    n = len(parameters) // 2 \n",
    "    p = np.zeros((1,m))\n",
    "    W1 = parameters[\"W1\"]\n",
    "    b1 = parameters[\"b1\"]\n",
    "    W2 = parameters[\"W2\"]\n",
    "    b2 = parameters[\"b2\"]\n",
    "    A1, cache1 = activation_forward(X, W1, b1, \"relu\")\n",
    "    output, cache2 = activation_forward(A1, W2, b2, \"sigmoid\")\n",
    "    for i in range(0, output.shape[1]):\n",
    "        if output[0,i] > 0.5:\n",
    "            p[0,i] = 1\n",
    "        else:\n",
    "            p[0,i] = 0\n",
    "    print(\"Accuracy: \"  + str(np.sum((p == y)/m)))\n",
    "        \n",
    "    return p"
   ]
  },
  {
   "cell_type": "code",
   "execution_count": 22,
   "metadata": {},
   "outputs": [
    {
     "name": "stdout",
     "output_type": "stream",
     "text": [
      "Accuracy: 0.9999999999999998\n"
     ]
    }
   ],
   "source": [
    "pred_train = predict(x_train, y_train, parameters)"
   ]
  },
  {
   "cell_type": "code",
   "execution_count": 23,
   "metadata": {},
   "outputs": [
    {
     "name": "stdout",
     "output_type": "stream",
     "text": [
      "Accuracy: 0.6499999999999999\n"
     ]
    }
   ],
   "source": [
    "pred_test = predict(x_test, y_test, parameters)"
   ]
  },
  {
   "cell_type": "code",
   "execution_count": null,
   "metadata": {},
   "outputs": [],
   "source": []
  }
 ],
 "metadata": {
  "kernelspec": {
   "display_name": "Python 3.8.1 64-bit",
   "language": "python",
   "name": "python38164bit9748098de64f4a3daac392bdbec03b70"
  },
  "language_info": {
   "codemirror_mode": {
    "name": "ipython",
    "version": 3
   },
   "file_extension": ".py",
   "mimetype": "text/x-python",
   "name": "python",
   "nbconvert_exporter": "python",
   "pygments_lexer": "ipython3",
   "version": "3.8.1"
  }
 },
 "nbformat": 4,
 "nbformat_minor": 4
}
